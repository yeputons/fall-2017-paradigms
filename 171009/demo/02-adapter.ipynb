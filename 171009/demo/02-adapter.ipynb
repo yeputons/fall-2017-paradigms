{
 "cells": [
  {
   "cell_type": "code",
   "execution_count": 1,
   "metadata": {
    "collapsed": true
   },
   "outputs": [],
   "source": [
    "class AlmostDict:\n",
    "    def __init__(self, base):\n",
    "        self.base = base\n",
    "    def put(self, key, value):\n",
    "        self.base[key] = value\n",
    "    def get(self, key):\n",
    "        return self.base[key]\n",
    "\n",
    "d = AlmostDict({})  # Адаптирует словарь под новый интерфейс\n",
    "d.put(\"foo\", \"bar\")\n",
    "assert d.get(\"foo\") == \"bar\""
   ]
  },
  {
   "cell_type": "code",
   "execution_count": null,
   "metadata": {
    "collapsed": true
   },
   "outputs": [],
   "source": []
  }
 ],
 "metadata": {
  "kernelspec": {
   "display_name": "Python 3",
   "language": "python",
   "name": "python3"
  },
  "language_info": {
   "codemirror_mode": {
    "name": "ipython",
    "version": 3
   },
   "file_extension": ".py",
   "mimetype": "text/x-python",
   "name": "python",
   "nbconvert_exporter": "python",
   "pygments_lexer": "ipython3",
   "version": "3.6.0"
  }
 },
 "nbformat": 4,
 "nbformat_minor": 2
}
