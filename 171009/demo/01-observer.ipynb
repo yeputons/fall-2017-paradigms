{
 "cells": [
  {
   "cell_type": "code",
   "execution_count": 4,
   "metadata": {
    "collapsed": false
   },
   "outputs": [
    {
     "name": "stdout",
     "output_type": "stream",
     "text": [
      "Clicked\n",
      "Clicked (other)\n"
     ]
    }
   ],
   "source": [
    "class Button:\n",
    "    def __init__(self):\n",
    "        self.listeners = []\n",
    "    def click(self):\n",
    "        for l in self.listeners:\n",
    "            l.on_click(self)\n",
    "    def add_listener(self, l):\n",
    "        self.listeners.append(l)\n",
    "    \n",
    "btn = Button()\n",
    "class ButtonListener:\n",
    "    def on_click(self, btn):\n",
    "        print(\"Clicked\")\n",
    "btn.add_listener(ButtonListener())\n",
    "\n",
    "class OtherButtonListener:\n",
    "    def on_click(self, btn):\n",
    "        print(\"Clicked (other)\")\n",
    "btn.add_listener(OtherButtonListener())\n",
    "        \n",
    "btn.click()"
   ]
  }
 ],
 "metadata": {
  "kernelspec": {
   "display_name": "Python 3",
   "language": "python",
   "name": "python3"
  },
  "language_info": {
   "codemirror_mode": {
    "name": "ipython",
    "version": 3
   },
   "file_extension": ".py",
   "mimetype": "text/x-python",
   "name": "python",
   "nbconvert_exporter": "python",
   "pygments_lexer": "ipython3",
   "version": "3.6.0"
  }
 },
 "nbformat": 4,
 "nbformat_minor": 2
}
