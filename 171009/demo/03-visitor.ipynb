{
 "cells": [
  {
   "cell_type": "code",
   "execution_count": null,
   "metadata": {
    "collapsed": true
   },
   "outputs": [],
   "source": [
    "# Есть только: Number, Reference, BinaryOperation, UnaryOperation\n",
    "# Решение с новыми методами внутри классов\n",
    "\n",
    "def format_expr(expr):\n",
    "    return expr.show()\n",
    "\n",
    "assert format_expr(\n",
    "    BinaryOperation(Number(2), '+', Reference('foo'))\n",
    ") == '2 + foo'\n",
    "\n",
    "class BinaryOperation:\n",
    "    # ...\n",
    "    def show(self):  # --> string\n",
    "        return \"({} {} {})\".format(self.lhs.show(), self.op, self.rhs.show())\n",
    "\n",
    "class UnaryOperation:\n",
    "    # ...\n",
    "    def show(self):  # --> string\n",
    "        return \"({}{})\".format(self.op, self.expr.show())\n",
    "\n",
    "class Number:\n",
    "    # ...\n",
    "    def show(self):  # --> string\n",
    "        return str(self.value)\n",
    "\n",
    "class Reference:\n",
    "    # ...\n",
    "    def show(self):\n",
    "        return self.name"
   ]
  },
  {
   "cell_type": "code",
   "execution_count": null,
   "metadata": {
    "collapsed": true
   },
   "outputs": [],
   "source": [
    "assert format_expr(\n",
    "    UnaryOperation('-', BinaryOperation(Number(2), '+', Number(3))\n",
    ") == '(-(2 + 3))'\n",
    "assert format_expr(\n",
    "    BinaryOperation(BinaryOperation(Number(2), '+', Number(3)), '*', Number(5))\n",
    ") == '((2 + 3) * 5)'  # 2 + 3 * 5\n",
    "assert format_expr(\n",
    "    BinaryOperation(Number(2), '+', UnaryOperation('-', Number(1)))\n",
    ") == '(2 + (-1))'\n"
   ]
  },
  {
   "cell_type": "code",
   "execution_count": null,
   "metadata": {
    "collapsed": true
   },
   "outputs": [],
   "source": [
    "# Есть только: Number, Reference, BinaryOperation, UnaryOperation\n",
    "# Решение с новой отдельной функцией и ручным разбором типа объекта\n",
    "\n",
    "def format_expr(expr):\n",
    "    if type(expr) == Number:\n",
    "        return str(expr.value)\n",
    "    elif type(expr) == Reference:\n",
    "        return expr.name\n",
    "    elif type(expr) == BinaryOperation:\n",
    "        return \"({} {} {})\".format(\n",
    "            format_expr(expr.lhs),\n",
    "            expr.op,\n",
    "            format_expr(expr.rhs)\n",
    "        )\n",
    "    elif type(expr) == UnaryOperation:\n",
    "        return \"({}{})\".format(expr.op, format_expr(expr.expr))\n",
    "\n",
    "assert format_expr(\n",
    "    BinaryOperation(Number(2), '+', Reference('foo'))\n",
    ") == '2 + foo'\n",
    "\n",
    "# type(obj) == Number"
   ]
  },
  {
   "cell_type": "code",
   "execution_count": null,
   "metadata": {
    "collapsed": true
   },
   "outputs": [],
   "source": [
    "# Паттерн Visitor\n",
    "\n",
    "# Часть I: добавляем вызов метода visitor'а в каждый объект\n",
    "class Number:\n",
    "    # ...\n",
    "    def accept(self, visitor):\n",
    "        return visitor.visit_number(self)\n",
    "class Reference:\n",
    "    # ...\n",
    "    def accept(self, visitor):\n",
    "        return visitor.visit_reference(self)\n",
    "        \n",
    "# Часть II: пишем сам Visitor\n",
    "class FormatExprVisitor:\n",
    "    def visit(self, expr):\n",
    "        # Должен вызвать visit_* в зависимости от типа expr.\n",
    "    def visit_number(self, number):\n",
    "        return str(number.value)\n",
    "    def visit_reference(self, reference):\n",
    "        return reference.name\n",
    "    def visit_unary_operation(self, unary_operation):\n",
    "        return \"({}{})\".format(unary_operation.op, unary_operation.expr.accept(v))\n",
    "        #v = FormatExprVisitor()\n",
    "        #unary_operation.expr.accept(v)\n",
    "        #self.result = \"({}{})\".format(unary_operation.op, v.result)\n",
    "    \n",
    "def format_expr(expr):\n",
    "    v = FormatExprVisitor()\n",
    "    return expr.accept(v)\n",
    "\n",
    "# Следующие две строчки эквивалентны:\n",
    "format_expr(UnaryOperation('-', Reference('a')))\n",
    "FormatExprVisitor().visit(UnaryOperation('-', Reference('a')))"
   ]
  }
 ],
 "metadata": {
  "kernelspec": {
   "display_name": "Python 3",
   "language": "python",
   "name": "python3"
  },
  "language_info": {
   "codemirror_mode": {
    "name": "ipython",
    "version": 3
   },
   "file_extension": ".py",
   "mimetype": "text/x-python",
   "name": "python",
   "nbconvert_exporter": "python",
   "pygments_lexer": "ipython3",
   "version": "3.6.0"
  }
 },
 "nbformat": 4,
 "nbformat_minor": 2
}
